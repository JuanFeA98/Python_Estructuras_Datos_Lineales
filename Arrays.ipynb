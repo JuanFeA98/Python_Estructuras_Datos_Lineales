{
 "cells": [
  {
   "cell_type": "markdown",
   "metadata": {},
   "source": [
    "## Arrays"
   ]
  },
  {
   "cell_type": "markdown",
   "metadata": {},
   "source": [
    "Son colecciones de datos conformadas por elementos del mismo tipo."
   ]
  },
  {
   "cell_type": "code",
   "execution_count": 13,
   "metadata": {
    "ExecuteTime": {
     "end_time": "2021-05-29T15:33:56.571412Z",
     "start_time": "2021-05-29T15:33:56.550869Z"
    }
   },
   "outputs": [],
   "source": [
    "class Array:\n",
    "\n",
    "    # Inicializar nuestro array\n",
    "    def __init__(self, capacity, fill_value=None):\n",
    "        self.items = list()\n",
    "        for i in range(capacity):\n",
    "            self.items.append(fill_value)\n",
    "\n",
    "    # Conocer la longitud de nuestro array\n",
    "    def __len__(self):\n",
    "        return len(self.items)\n",
    "\n",
    "    # Convertir nuestro array en un string\n",
    "    def __str__(self):\n",
    "        return str(self.items)\n",
    "\n",
    "    # Iterar sobre nuestro array\n",
    "    def __iter__(self):\n",
    "        return iter(self.items)\n",
    "\n",
    "    # Conocer el elemento dado un indice\n",
    "    def __getitem__(self, index):\n",
    "        return self.items[index]\n",
    "\n",
    "    # Reemplazar un elemento de nuestro array\n",
    "    def __setitem__(self, index, new_item):\n",
    "        self.items[index] = new_item"
   ]
  },
  {
   "cell_type": "code",
   "execution_count": 9,
   "metadata": {
    "ExecuteTime": {
     "end_time": "2021-05-29T15:31:23.068800Z",
     "start_time": "2021-05-29T15:31:23.059080Z"
    }
   },
   "outputs": [],
   "source": [
    "menu = Array(5)"
   ]
  },
  {
   "cell_type": "code",
   "execution_count": 10,
   "metadata": {
    "ExecuteTime": {
     "end_time": "2021-05-29T15:31:25.178162Z",
     "start_time": "2021-05-29T15:31:25.156752Z"
    }
   },
   "outputs": [
    {
     "data": {
      "text/plain": [
       "<__main__.Array at 0x19ee5933a30>"
      ]
     },
     "execution_count": 10,
     "metadata": {},
     "output_type": "execute_result"
    }
   ],
   "source": [
    "menu"
   ]
  },
  {
   "cell_type": "code",
   "execution_count": 11,
   "metadata": {
    "ExecuteTime": {
     "end_time": "2021-05-29T15:31:59.749557Z",
     "start_time": "2021-05-29T15:31:59.728119Z"
    }
   },
   "outputs": [
    {
     "data": {
      "text/plain": [
       "5"
      ]
     },
     "execution_count": 11,
     "metadata": {},
     "output_type": "execute_result"
    }
   ],
   "source": [
    "menu.__len__()"
   ]
  }
 ],
 "metadata": {
  "kernelspec": {
   "display_name": "Python 3",
   "language": "python",
   "name": "python3"
  },
  "language_info": {
   "codemirror_mode": {
    "name": "ipython",
    "version": 3
   },
   "file_extension": ".py",
   "mimetype": "text/x-python",
   "name": "python",
   "nbconvert_exporter": "python",
   "pygments_lexer": "ipython3",
   "version": "3.8.5"
  },
  "toc": {
   "base_numbering": 1,
   "nav_menu": {},
   "number_sections": true,
   "sideBar": true,
   "skip_h1_title": false,
   "title_cell": "Table of Contents",
   "title_sidebar": "Contents",
   "toc_cell": false,
   "toc_position": {},
   "toc_section_display": true,
   "toc_window_display": false
  },
  "varInspector": {
   "cols": {
    "lenName": 16,
    "lenType": 16,
    "lenVar": 40
   },
   "kernels_config": {
    "python": {
     "delete_cmd_postfix": "",
     "delete_cmd_prefix": "del ",
     "library": "var_list.py",
     "varRefreshCmd": "print(var_dic_list())"
    },
    "r": {
     "delete_cmd_postfix": ") ",
     "delete_cmd_prefix": "rm(",
     "library": "var_list.r",
     "varRefreshCmd": "cat(var_dic_list()) "
    }
   },
   "types_to_exclude": [
    "module",
    "function",
    "builtin_function_or_method",
    "instance",
    "_Feature"
   ],
   "window_display": false
  }
 },
 "nbformat": 4,
 "nbformat_minor": 4
}
