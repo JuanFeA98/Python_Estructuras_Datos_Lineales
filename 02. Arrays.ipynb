{
 "cells": [
  {
   "cell_type": "markdown",
   "metadata": {},
   "source": [
    "## Arrays"
   ]
  },
  {
   "cell_type": "markdown",
   "metadata": {},
   "source": [
    "Son colecciones de datos conformadas por elementos del mismo tipo."
   ]
  },
  {
   "cell_type": "code",
   "execution_count": 73,
   "metadata": {
    "ExecuteTime": {
     "end_time": "2021-05-30T03:43:22.491062Z",
     "start_time": "2021-05-30T03:43:22.477862Z"
    }
   },
   "outputs": [],
   "source": [
    "class Array:\n",
    "\n",
    "    # Inicializar nuestro array\n",
    "    def __init__(self, capacity, fill_value=None):\n",
    "        self.items = list()\n",
    "        for i in range(capacity):\n",
    "            self.items.append(fill_value[i])\n",
    "\n",
    "    # Conocer la longitud de nuestro array\n",
    "    def __len__(self):\n",
    "        return len(self.items)\n",
    "\n",
    "    # Convertir nuestro array en un string\n",
    "    def __str__(self):\n",
    "        string = \"\".join([str(_) for _ in self.items])\n",
    "        return(string)\n",
    "\n",
    "    # Iterar sobre nuestro array\n",
    "    def __iter__(self):\n",
    "        return iter(self.items)\n",
    "\n",
    "    # Conocer el elemento dado un indice\n",
    "    def __getitem__(self, index):\n",
    "        return self.items[index]\n",
    "\n",
    "    # Reemplazar un elemento de nuestro array\n",
    "    def __setitem__(self, index, new_item):\n",
    "        self.items[index] = new_item"
   ]
  },
  {
   "cell_type": "code",
   "execution_count": 89,
   "metadata": {
    "ExecuteTime": {
     "end_time": "2021-05-30T03:57:42.952209Z",
     "start_time": "2021-05-30T03:57:42.937221Z"
    }
   },
   "outputs": [],
   "source": [
    "menu = Array(6, [1,2,3,4,5,6])"
   ]
  },
  {
   "cell_type": "code",
   "execution_count": 86,
   "metadata": {
    "ExecuteTime": {
     "end_time": "2021-05-30T03:57:32.497143Z",
     "start_time": "2021-05-30T03:57:32.488854Z"
    }
   },
   "outputs": [
    {
     "data": {
      "text/plain": [
       "<__main__.Array at 0x25222c6d280>"
      ]
     },
     "execution_count": 86,
     "metadata": {},
     "output_type": "execute_result"
    }
   ],
   "source": [
    "menu"
   ]
  },
  {
   "cell_type": "code",
   "execution_count": 87,
   "metadata": {
    "ExecuteTime": {
     "end_time": "2021-05-30T03:57:33.281558Z",
     "start_time": "2021-05-30T03:57:33.260838Z"
    }
   },
   "outputs": [
    {
     "data": {
      "text/plain": [
       "5"
      ]
     },
     "execution_count": 87,
     "metadata": {},
     "output_type": "execute_result"
    }
   ],
   "source": [
    "menu.__len__()"
   ]
  },
  {
   "cell_type": "code",
   "execution_count": 95,
   "metadata": {
    "ExecuteTime": {
     "end_time": "2021-05-30T04:00:38.723412Z",
     "start_time": "2021-05-30T04:00:38.706108Z"
    }
   },
   "outputs": [
    {
     "data": {
      "text/plain": [
       "'1234513'"
      ]
     },
     "execution_count": 95,
     "metadata": {},
     "output_type": "execute_result"
    }
   ],
   "source": [
    "menu.__str__()"
   ]
  },
  {
   "cell_type": "code",
   "execution_count": 93,
   "metadata": {
    "ExecuteTime": {
     "end_time": "2021-05-30T04:00:19.754439Z",
     "start_time": "2021-05-30T04:00:19.736970Z"
    }
   },
   "outputs": [
    {
     "data": {
      "text/plain": [
       "6"
      ]
     },
     "execution_count": 93,
     "metadata": {},
     "output_type": "execute_result"
    }
   ],
   "source": [
    "menu.__getitem__(5)"
   ]
  },
  {
   "cell_type": "code",
   "execution_count": 94,
   "metadata": {
    "ExecuteTime": {
     "end_time": "2021-05-30T04:00:36.650021Z",
     "start_time": "2021-05-30T04:00:36.636137Z"
    }
   },
   "outputs": [],
   "source": [
    "menu.__setitem__(5, 13)"
   ]
  },
  {
   "cell_type": "code",
   "execution_count": null,
   "metadata": {},
   "outputs": [],
   "source": []
  }
 ],
 "metadata": {
  "kernelspec": {
   "display_name": "Python 3",
   "language": "python",
   "name": "python3"
  },
  "language_info": {
   "codemirror_mode": {
    "name": "ipython",
    "version": 3
   },
   "file_extension": ".py",
   "mimetype": "text/x-python",
   "name": "python",
   "nbconvert_exporter": "python",
   "pygments_lexer": "ipython3",
   "version": "3.8.5"
  },
  "toc": {
   "base_numbering": 1,
   "nav_menu": {},
   "number_sections": true,
   "sideBar": true,
   "skip_h1_title": false,
   "title_cell": "Table of Contents",
   "title_sidebar": "Contents",
   "toc_cell": false,
   "toc_position": {},
   "toc_section_display": true,
   "toc_window_display": false
  },
  "varInspector": {
   "cols": {
    "lenName": 16,
    "lenType": 16,
    "lenVar": 40
   },
   "kernels_config": {
    "python": {
     "delete_cmd_postfix": "",
     "delete_cmd_prefix": "del ",
     "library": "var_list.py",
     "varRefreshCmd": "print(var_dic_list())"
    },
    "r": {
     "delete_cmd_postfix": ") ",
     "delete_cmd_prefix": "rm(",
     "library": "var_list.r",
     "varRefreshCmd": "cat(var_dic_list()) "
    }
   },
   "types_to_exclude": [
    "module",
    "function",
    "builtin_function_or_method",
    "instance",
    "_Feature"
   ],
   "window_display": false
  }
 },
 "nbformat": 4,
 "nbformat_minor": 4
}
