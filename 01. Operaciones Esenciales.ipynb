{
 "cells": [
  {
   "cell_type": "markdown",
   "metadata": {},
   "source": [
    "# Operaciones Esenciales en Colecciones"
   ]
  },
  {
   "cell_type": "code",
   "execution_count": 16,
   "metadata": {
    "ExecuteTime": {
     "end_time": "2021-05-27T00:51:39.528852Z",
     "start_time": "2021-05-27T00:51:39.499910Z"
    }
   },
   "outputs": [
    {
     "data": {
      "text/plain": [
       "['azul', 'rojo', 'verde', 'amarillo']"
      ]
     },
     "execution_count": 16,
     "metadata": {},
     "output_type": "execute_result"
    }
   ],
   "source": [
    "my_list = ['azul', 'rojo', 'verde', 'amarillo']\n",
    "my_list"
   ]
  },
  {
   "cell_type": "markdown",
   "metadata": {},
   "source": [
    "## Agregar elementos"
   ]
  },
  {
   "cell_type": "markdown",
   "metadata": {},
   "source": [
    "### Agregar elementos al final"
   ]
  },
  {
   "cell_type": "code",
   "execution_count": 17,
   "metadata": {
    "ExecuteTime": {
     "end_time": "2021-05-27T00:51:40.849391Z",
     "start_time": "2021-05-27T00:51:40.828531Z"
    }
   },
   "outputs": [
    {
     "data": {
      "text/plain": [
       "['azul', 'rojo', 'verde', 'amarillo', 'naranja']"
      ]
     },
     "execution_count": 17,
     "metadata": {},
     "output_type": "execute_result"
    }
   ],
   "source": [
    "my_list.append('naranja')\n",
    "my_list"
   ]
  },
  {
   "cell_type": "markdown",
   "metadata": {},
   "source": [
    "### Agregar elementos en una posición determinada"
   ]
  },
  {
   "cell_type": "code",
   "execution_count": 18,
   "metadata": {
    "ExecuteTime": {
     "end_time": "2021-05-27T00:51:42.689158Z",
     "start_time": "2021-05-27T00:51:42.669655Z"
    }
   },
   "outputs": [
    {
     "data": {
      "text/plain": [
       "['azul', 'café', 'rojo', 'verde', 'amarillo', 'naranja']"
      ]
     },
     "execution_count": 18,
     "metadata": {},
     "output_type": "execute_result"
    }
   ],
   "source": [
    "my_list.insert(1, 'café')\n",
    "my_list"
   ]
  },
  {
   "cell_type": "markdown",
   "metadata": {},
   "source": [
    "## Ordenar los elementos"
   ]
  },
  {
   "cell_type": "code",
   "execution_count": 19,
   "metadata": {
    "ExecuteTime": {
     "end_time": "2021-05-27T00:51:45.919175Z",
     "start_time": "2021-05-27T00:51:45.900725Z"
    }
   },
   "outputs": [
    {
     "data": {
      "text/plain": [
       "['amarillo', 'azul', 'café', 'naranja', 'rojo', 'verde']"
      ]
     },
     "execution_count": 19,
     "metadata": {},
     "output_type": "execute_result"
    }
   ],
   "source": [
    "my_list.sort()\n",
    "my_list"
   ]
  },
  {
   "cell_type": "markdown",
   "metadata": {},
   "source": [
    "## Eliminar los elementos"
   ]
  },
  {
   "cell_type": "code",
   "execution_count": 21,
   "metadata": {
    "ExecuteTime": {
     "end_time": "2021-05-27T00:51:55.409151Z",
     "start_time": "2021-05-27T00:51:55.389436Z"
    }
   },
   "outputs": [
    {
     "data": {
      "text/plain": [
       "['amarillo', 'azul', 'café', 'naranja']"
      ]
     },
     "execution_count": 21,
     "metadata": {},
     "output_type": "execute_result"
    }
   ],
   "source": [
    "my_list.pop()\n",
    "my_list"
   ]
  },
  {
   "cell_type": "code",
   "execution_count": 22,
   "metadata": {
    "ExecuteTime": {
     "end_time": "2021-05-27T00:52:18.049705Z",
     "start_time": "2021-05-27T00:52:18.029550Z"
    }
   },
   "outputs": [
    {
     "data": {
      "text/plain": [
       "['amarillo', 'azul', 'naranja']"
      ]
     },
     "execution_count": 22,
     "metadata": {},
     "output_type": "execute_result"
    }
   ],
   "source": [
    "my_list.remove('café')\n",
    "my_list"
   ]
  },
  {
   "cell_type": "markdown",
   "metadata": {},
   "source": [
    "## Ejercicio"
   ]
  },
  {
   "cell_type": "code",
   "execution_count": 54,
   "metadata": {
    "ExecuteTime": {
     "end_time": "2021-05-27T01:04:20.455188Z",
     "start_time": "2021-05-27T01:04:20.432304Z"
    }
   },
   "outputs": [],
   "source": [
    "def piramide(lower, upper, margin=0):\n",
    "    blanks = \"o\" * margin\n",
    "    print(blanks, lower, upper)\n",
    "    if lower > upper:\n",
    "        print(blanks, 0)\n",
    "        return(0)\n",
    "    else:\n",
    "        result = lower + piramide(lower + 1, upper, margin + 4)\n",
    "        print(blanks, result)\n",
    "        return(result)"
   ]
  },
  {
   "cell_type": "code",
   "execution_count": 55,
   "metadata": {
    "ExecuteTime": {
     "end_time": "2021-05-27T01:04:21.897785Z",
     "start_time": "2021-05-27T01:04:21.886507Z"
    }
   },
   "outputs": [
    {
     "name": "stdout",
     "output_type": "stream",
     "text": [
      " 1 5\n",
      "oooo 2 5\n",
      "oooooooo 3 5\n",
      "oooooooooooo 4 5\n",
      "oooooooooooooooo 5 5\n",
      "oooooooooooooooooooo 6 5\n",
      "oooooooooooooooooooo 0\n",
      "oooooooooooooooo 5\n",
      "oooooooooooo 9\n",
      "oooooooo 12\n",
      "oooo 14\n",
      " 15\n"
     ]
    },
    {
     "data": {
      "text/plain": [
       "15"
      ]
     },
     "execution_count": 55,
     "metadata": {},
     "output_type": "execute_result"
    }
   ],
   "source": [
    "piramide(1, 5)"
   ]
  },
  {
   "cell_type": "code",
   "execution_count": null,
   "metadata": {},
   "outputs": [],
   "source": []
  },
  {
   "cell_type": "code",
   "execution_count": null,
   "metadata": {},
   "outputs": [],
   "source": []
  }
 ],
 "metadata": {
  "kernelspec": {
   "display_name": "Python 3",
   "language": "python",
   "name": "python3"
  },
  "language_info": {
   "codemirror_mode": {
    "name": "ipython",
    "version": 3
   },
   "file_extension": ".py",
   "mimetype": "text/x-python",
   "name": "python",
   "nbconvert_exporter": "python",
   "pygments_lexer": "ipython3",
   "version": "3.8.5"
  },
  "toc": {
   "base_numbering": 1,
   "nav_menu": {},
   "number_sections": true,
   "sideBar": true,
   "skip_h1_title": false,
   "title_cell": "Table of Contents",
   "title_sidebar": "Contents",
   "toc_cell": false,
   "toc_position": {},
   "toc_section_display": true,
   "toc_window_display": false
  },
  "varInspector": {
   "cols": {
    "lenName": 16,
    "lenType": 16,
    "lenVar": 40
   },
   "kernels_config": {
    "python": {
     "delete_cmd_postfix": "",
     "delete_cmd_prefix": "del ",
     "library": "var_list.py",
     "varRefreshCmd": "print(var_dic_list())"
    },
    "r": {
     "delete_cmd_postfix": ") ",
     "delete_cmd_prefix": "rm(",
     "library": "var_list.r",
     "varRefreshCmd": "cat(var_dic_list()) "
    }
   },
   "types_to_exclude": [
    "module",
    "function",
    "builtin_function_or_method",
    "instance",
    "_Feature"
   ],
   "window_display": false
  }
 },
 "nbformat": 4,
 "nbformat_minor": 4
}
